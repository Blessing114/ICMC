{
 "cells": [
  {
   "cell_type": "code",
   "execution_count": 3,
   "metadata": {},
   "outputs": [],
   "source": [
    "import networkx as nx\n",
    "import pandas as pd\n",
    "import numpy as np\n",
    "import random\n",
    "import re\n",
    "import os"
   ]
  },
  {
   "cell_type": "code",
   "execution_count": 2,
   "metadata": {},
   "outputs": [],
   "source": [
    "data_file=os.listdir('./CG_graph')"
   ]
  },
  {
   "cell_type": "code",
   "execution_count": null,
   "metadata": {},
   "outputs": [
    {
     "name": "stdout",
     "output_type": "stream",
     "text": [
      "SSCA_17.txt\n",
      "the length of degree is 55\n",
      "1185 9985 101265\n",
      "2218744\n",
      "500\n",
      "add\n",
      "minus\n"
     ]
    }
   ],
   "source": [
    "for filename in data_file:\n",
    "    if filename.endswith('.txt'):\n",
    "        print(filename)\n",
    "\n",
    "        data=pd.read_csv('./final_file/'+filename,sep='\\t',header=None)\n",
    "        n=len(data)\n",
    "\n",
    "        g = nx.Graph()\n",
    "        for (u,v) in data.values:\n",
    "            g.add_edge(u,v)\n",
    "        degree_dict=dict(g.degree)\n",
    "        degree=list(set(degree_dict.values()))\n",
    "        degree.sort()\n",
    "        print('the length of degree is {}'.format(len(degree)))\n",
    "        degree_size=int(len(degree)/16)\n",
    "        degree_one=degree[degree_size*2]\n",
    "        degree_two=degree[degree_size*4]\n",
    "        degree_three=degree[degree_size*6]\n",
    "        degree_four=degree[degree_size*8]\n",
    "\n",
    "        node_low=[k for k,v in degree_dict.items() if v < degree_one]\n",
    "        node_middle=[k for k,v in degree_dict.items() if v >= degree_two and v < degree_three]\n",
    "        node_high=[k for k,v in degree_dict.items() if v >= degree_four]\n",
    "        print(len(node_low),len(node_middle),len(node_high))\n",
    "        print(n)\n",
    "        for batch_size in [500,1000,2000,5000]:\n",
    "            print(batch_size)\n",
    "            for way in ['add','minus']:\n",
    "                if way=='add':\n",
    "                    print(way)\n",
    "                    situation_dic={'low':node_low,'middle':node_middle,'high':node_high}\n",
    "                    for degree_situation in ['low','middle','high']:\n",
    "                        node_=situation_dic[degree_situation]\n",
    "                        node_choise = list(np.random.choice(node_, size=batch_size, replace=True))\n",
    "                        data_final=pd.DataFrame()\n",
    "                        sign=['+']*(n+batch_size)\n",
    "                        in_=list(data[0].values)\n",
    "                        out_=list(data[1].values)\n",
    "\n",
    "                        for u in node_choise:\n",
    "                            v=random.sample(g.nodes(),1)[0]\n",
    "                            while g.has_edge(u,v) and u==v:\n",
    "                                v=random.sample(g.nodes(),1)[0]\n",
    "                            g.add_edge(u,v)\n",
    "                            in_.append(u)\n",
    "                            out_.append(v)\n",
    "\n",
    "                        data_final['sign']=sign\n",
    "                        data_final['in']=in_\n",
    "                        data_final['out']=out_\n",
    "                        name=filename.strip('.txt')\n",
    "                        data_final.to_csv('./degree/add/'+name+'_'+'batchsize_'+str(batch_size)+'_'+degree_situation+'_add_degree.txt',sep='\\t',index=None,header=None)\n",
    "                else:\n",
    "                    print(way)\n",
    "                    situation_dic={'low':node_low,'middle':node_middle,'high':node_high}\n",
    "                    for degree_situation in ['low','middle','high']:\n",
    "                        node_=set(situation_dic[degree_situation])\n",
    "                        #random.sample(node_,1)[0]\n",
    "                        #node_choise=random.sample(node_,batch_size)\n",
    "                        i=0\n",
    "                        data_final=pd.DataFrame()\n",
    "                        sign=['+']*n\n",
    "                        sign.extend(['-']*batch_size)\n",
    "                        in_=list(data[0].values)\n",
    "                        out_=list(data[1].values)\n",
    "                        while i<batch_size:\n",
    "                            u,v=random.sample(g.edges(),1)[0]\n",
    "                            if u in node_ or v in node_:\n",
    "                                g.remove_edge(u,v)\n",
    "                                in_.append(u)\n",
    "                                out_.append(v)\n",
    "                                i=i+1\n",
    "\n",
    "                        data_final['sign']=sign\n",
    "                        data_final['in']=in_\n",
    "                        data_final['out']=out_\n",
    "                        name=filename.strip('.txt')\n",
    "                        data_final.to_csv('./degree/minus/'+name+'_'+'batchsize_'+str(batch_size)+'_'+degree_situation+'_minus_degree.txt',sep='\\t',index=None,header=None)"
   ]
  },
  {
   "cell_type": "code",
   "execution_count": null,
   "metadata": {},
   "outputs": [],
   "source": [
    "data=pd.read_csv('./PLG_graph/'+file_name,sep='\\t',header=None)"
   ]
  },
  {
   "cell_type": "code",
   "execution_count": 26,
   "metadata": {
    "jupyter": {
     "source_hidden": true
    }
   },
   "outputs": [
    {
     "name": "stdout",
     "output_type": "stream",
     "text": [
      "['PLG_5000000_4991006_add_minus.txt', 'soc-livejournal_add_minus.txt', 'Email-EuAll_add_minus.txt', 'wikipedia-growth_add_minus.txt', 'ca-cit-HepTh_add_minus.txt', 'SSCA_17_add_minus.txt', '.ipynb_checkpoints', 'ER_1000000_4999725_add_minus.txt', 'SSCA_13_add_minus.txt', 'ER_100000_2502270_add_minus.txt', 'dblp_coauthor_add_minus.txt', 'flickr-growth_add_minus.txt', 'PLG_500000_499373_add_minus.txt']\n"
     ]
    }
   ],
   "source": [
    "import os\n",
    "\n",
    "file=os.listdir('../max_clique/clean')\n",
    "print(file)"
   ]
  },
  {
   "cell_type": "code",
   "execution_count": 91,
   "metadata": {},
   "outputs": [
    {
     "name": "stdout",
     "output_type": "stream",
     "text": [
      "Email-EuAll\n"
     ]
    }
   ],
   "source": [
    "file=['Email-EuAll.txt']\n",
    "for file_name in file:\n",
    "    if file_name.endswith('.txt'):\n",
    "        data=pd.read_csv(file_name,sep='\\t',header=None)\n",
    "        a=['+']*len(data)\n",
    "        a.extend(['-']*len(data))\n",
    "        a=np.array(a)\n",
    "        data_end=pd.DataFrame()\n",
    "        data_end[0]=a\n",
    "        in_=data[0].values\n",
    "        out_=data[1].values\n",
    "        data_end[1]=np.hstack((in_,in_[::-1]))\n",
    "        data_end[2]=np.hstack((out_,out_[::-1]))\n",
    "        name=file_name.strip('.txt')\n",
    "        print(name)\n",
    "        data_end.to_csv('./'+name+'_add_minus.txt',sep='\\t',index=None,header=None)"
   ]
  },
  {
   "cell_type": "code",
   "execution_count": 84,
   "metadata": {},
   "outputs": [
    {
     "name": "stdout",
     "output_type": "stream",
     "text": [
      "       0  1\n",
      "0      0  1\n",
      "1    175  3\n",
      "2    457  3\n",
      "3  75912  3\n",
      "4      2  3\n",
      "5      0  4\n",
      "6      4  5\n",
      "7      0  5\n",
      "8      6  7\n",
      "9  74996  7\n"
     ]
    }
   ],
   "source": []
  },
  {
   "cell_type": "code",
   "execution_count": 89,
   "metadata": {},
   "outputs": [
    {
     "name": "stdout",
     "output_type": "stream",
     "text": [
      "./real_data/Email-EuAll.txt 265009 364481 1.0379672312172553e-05 7636\n",
      "364481\n"
     ]
    }
   ],
   "source": [
    "filename='./real_data/Email-EuAll.txt'\n",
    "\n",
    "G = nx.DiGraph()\n",
    "i=0\n",
    "\n",
    "with open(filename) as file:\n",
    "    for line in file:\n",
    "        if i<4:\n",
    "            i+=1\n",
    "            continue\n",
    "        head, tail= [int(x) for x in re.split('[ ,\\t]',line)]  #如果节点使用数组表示的可以将str(x)改为int(x)\n",
    "        if head!=tail:\n",
    "            if head>tail:\n",
    "                head,tail=tail,head\n",
    "            G.add_edge(head,tail)\n",
    "\n",
    "DVweight = G.degree()\n",
    "max_degree = max(span for n, span in DVweight)\t\t#节点最大度数\n",
    "\n",
    "\n",
    "ver_num=len(G.nodes())\n",
    "edge_num=len(G.edges())\n",
    "print(filename,ver_num,edge_num,(2*edge_num)/(ver_num*ver_num),max_degree)\n",
    "data_list=[[edge[0],edge[1]] for edge in G.edges()]\n",
    "data=pd.DataFrame(data=data_list,columns=['in','out'])\n",
    "print(len(data))\n",
    "name=filename.split('/')[-1]\n",
    "data.to_csv('./'+name,sep='\\t',index=None,header=None)"
   ]
  },
  {
   "cell_type": "code",
   "execution_count": 93,
   "metadata": {},
   "outputs": [
    {
     "name": "stdout",
     "output_type": "stream",
     "text": [
      "   0   1\n",
      "0  0   1\n",
      "1  2   3\n",
      "2  0   4\n",
      "3  4   5\n",
      "4  0   5\n",
      "5  6   7\n",
      "6  0   8\n",
      "7  3  10\n",
      "8  5  10\n",
      "9  9  10\n"
     ]
    }
   ],
   "source": [
    "filename='Email-EuAll.txt'\n",
    "data=pd.read_csv(filename,sep='\\t',header=None)\n",
    "data=data.sort_values(axis=0, ascending=True, by=1).reset_index(drop=True)\n",
    "print(data.head(10))\n",
    "data.to_csv('./Email-EuAll.txt',sep='\\t',index=None,header=None)"
   ]
  },
  {
   "cell_type": "code",
   "execution_count": 8,
   "metadata": {},
   "outputs": [],
   "source": []
  },
  {
   "cell_type": "code",
   "execution_count": null,
   "metadata": {},
   "outputs": [],
   "source": []
  }
 ],
 "metadata": {
  "kernelspec": {
   "display_name": "Python 3",
   "language": "python",
   "name": "python3"
  },
  "language_info": {
   "codemirror_mode": {
    "name": "ipython",
    "version": 3
   },
   "file_extension": ".py",
   "mimetype": "text/x-python",
   "name": "python",
   "nbconvert_exporter": "python",
   "pygments_lexer": "ipython3",
   "version": "3.7.9"
  }
 },
 "nbformat": 4,
 "nbformat_minor": 4
}
